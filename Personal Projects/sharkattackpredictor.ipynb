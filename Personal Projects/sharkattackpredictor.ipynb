{
 "cells": [
  {
   "cell_type": "code",
   "execution_count": 1,
   "id": "d9a51c6c",
   "metadata": {},
   "outputs": [],
   "source": [
    "import numpy as np"
   ]
  },
  {
   "cell_type": "code",
   "execution_count": 2,
   "id": "d2b3c2b1",
   "metadata": {},
   "outputs": [],
   "source": [
    "import pandas as pd"
   ]
  },
  {
   "cell_type": "code",
   "execution_count": 67,
   "id": "383beb67",
   "metadata": {},
   "outputs": [],
   "source": [
    "file_path = 'C:/Users/Hovo/Downloads/shark.xlsx'\n",
    "df = pd.read_excel(file_path)"
   ]
  },
  {
   "cell_type": "code",
   "execution_count": 68,
   "id": "f4d9c21b",
   "metadata": {},
   "outputs": [
    {
     "data": {
      "text/html": [
       "<div>\n",
       "<style scoped>\n",
       "    .dataframe tbody tr th:only-of-type {\n",
       "        vertical-align: middle;\n",
       "    }\n",
       "\n",
       "    .dataframe tbody tr th {\n",
       "        vertical-align: top;\n",
       "    }\n",
       "\n",
       "    .dataframe thead th {\n",
       "        text-align: right;\n",
       "    }\n",
       "</style>\n",
       "<table border=\"1\" class=\"dataframe\">\n",
       "  <thead>\n",
       "    <tr style=\"text-align: right;\">\n",
       "      <th></th>\n",
       "      <th>Case Number</th>\n",
       "      <th>Date</th>\n",
       "      <th>Year</th>\n",
       "      <th>Type</th>\n",
       "      <th>Country</th>\n",
       "      <th>Area</th>\n",
       "      <th>Location</th>\n",
       "      <th>Activity</th>\n",
       "      <th>Name</th>\n",
       "      <th>Sex</th>\n",
       "      <th>Age</th>\n",
       "      <th>Injury</th>\n",
       "      <th>Fatal (Y/N)</th>\n",
       "    </tr>\n",
       "  </thead>\n",
       "  <tbody>\n",
       "    <tr>\n",
       "      <th>0</th>\n",
       "      <td>2017.06.02</td>\n",
       "      <td>2017-06-02 00:00:00</td>\n",
       "      <td>2017</td>\n",
       "      <td>Unprovoked</td>\n",
       "      <td>BAHAMAS</td>\n",
       "      <td>New Providence</td>\n",
       "      <td>Athol Island</td>\n",
       "      <td>Snorkeling</td>\n",
       "      <td>Tiffany Johnson</td>\n",
       "      <td>F</td>\n",
       "      <td>32</td>\n",
       "      <td>Right forearm severed</td>\n",
       "      <td>N</td>\n",
       "    </tr>\n",
       "    <tr>\n",
       "      <th>1</th>\n",
       "      <td>2017.05.30</td>\n",
       "      <td>2017-05-30 00:00:00</td>\n",
       "      <td>2017</td>\n",
       "      <td>Provoked</td>\n",
       "      <td>USA</td>\n",
       "      <td>South Carolina</td>\n",
       "      <td>Awendaw, Charleston County</td>\n",
       "      <td>Touching a shark</td>\n",
       "      <td>Mackenzie Higgins</td>\n",
       "      <td>F</td>\n",
       "      <td>20</td>\n",
       "      <td>Right hand bitten by hooked shark PROVOKED INC...</td>\n",
       "      <td>N</td>\n",
       "    </tr>\n",
       "    <tr>\n",
       "      <th>2</th>\n",
       "      <td>2017.05.03</td>\n",
       "      <td>2017-05-03 00:00:00</td>\n",
       "      <td>2017</td>\n",
       "      <td>Invalid</td>\n",
       "      <td>USA</td>\n",
       "      <td>California</td>\n",
       "      <td>Sunset Beach, Orange County</td>\n",
       "      <td>Surfing</td>\n",
       "      <td>Sophia Raab</td>\n",
       "      <td>F</td>\n",
       "      <td>18</td>\n",
       "      <td>Laceration to thigh, likely caused by surfboar...</td>\n",
       "      <td>N</td>\n",
       "    </tr>\n",
       "    <tr>\n",
       "      <th>3</th>\n",
       "      <td>2017.04.29.b</td>\n",
       "      <td>2017-04-29 00:00:00</td>\n",
       "      <td>2017</td>\n",
       "      <td>Unprovoked</td>\n",
       "      <td>USA</td>\n",
       "      <td>South Carolina</td>\n",
       "      <td>Folly Beach, Charleston County</td>\n",
       "      <td>Surfing</td>\n",
       "      <td>Holly Dyar</td>\n",
       "      <td>F</td>\n",
       "      <td>33</td>\n",
       "      <td>Left foot bitten</td>\n",
       "      <td>N</td>\n",
       "    </tr>\n",
       "    <tr>\n",
       "      <th>4</th>\n",
       "      <td>2017.04.22</td>\n",
       "      <td>2017-04-22 00:00:00</td>\n",
       "      <td>2017</td>\n",
       "      <td>Unprovoked</td>\n",
       "      <td>ST HELENA, British overseas territory</td>\n",
       "      <td>Ascension Island</td>\n",
       "      <td>English Bay</td>\n",
       "      <td>Snorkeling</td>\n",
       "      <td>Frankie Gonsalves</td>\n",
       "      <td>F</td>\n",
       "      <td>40</td>\n",
       "      <td>Calf &amp; foot bitten</td>\n",
       "      <td>N</td>\n",
       "    </tr>\n",
       "  </tbody>\n",
       "</table>\n",
       "</div>"
      ],
      "text/plain": [
       "    Case Number                 Date  Year        Type  \\\n",
       "0    2017.06.02  2017-06-02 00:00:00  2017  Unprovoked   \n",
       "1    2017.05.30  2017-05-30 00:00:00  2017    Provoked   \n",
       "2    2017.05.03  2017-05-03 00:00:00  2017     Invalid   \n",
       "3  2017.04.29.b  2017-04-29 00:00:00  2017  Unprovoked   \n",
       "4    2017.04.22  2017-04-22 00:00:00  2017  Unprovoked   \n",
       "\n",
       "                                 Country              Area  \\\n",
       "0                                BAHAMAS   New Providence    \n",
       "1                                    USA    South Carolina   \n",
       "2                                    USA        California   \n",
       "3                                    USA    South Carolina   \n",
       "4  ST HELENA, British overseas territory  Ascension Island   \n",
       "\n",
       "                         Location          Activity               Name Sex   \\\n",
       "0                    Athol Island        Snorkeling    Tiffany Johnson    F   \n",
       "1      Awendaw, Charleston County  Touching a shark  Mackenzie Higgins    F   \n",
       "2     Sunset Beach, Orange County           Surfing        Sophia Raab    F   \n",
       "3  Folly Beach, Charleston County           Surfing         Holly Dyar    F   \n",
       "4                     English Bay        Snorkeling  Frankie Gonsalves    F   \n",
       "\n",
       "   Age                                             Injury Fatal (Y/N)  \n",
       "0   32                             Right forearm severed            N  \n",
       "1   20  Right hand bitten by hooked shark PROVOKED INC...           N  \n",
       "2   18  Laceration to thigh, likely caused by surfboar...           N  \n",
       "3   33                                   Left foot bitten           N  \n",
       "4   40                                 Calf & foot bitten           N  "
      ]
     },
     "execution_count": 68,
     "metadata": {},
     "output_type": "execute_result"
    }
   ],
   "source": [
    "df.head()"
   ]
  },
  {
   "cell_type": "code",
   "execution_count": 69,
   "id": "ebac466c",
   "metadata": {},
   "outputs": [
    {
     "data": {
      "text/plain": [
       "Index(['Case Number', 'Date', 'Year', 'Type', 'Country', 'Area', 'Location',\n",
       "       'Activity', 'Name', 'Sex ', 'Age', 'Injury', 'Fatal (Y/N)'],\n",
       "      dtype='object')"
      ]
     },
     "execution_count": 69,
     "metadata": {},
     "output_type": "execute_result"
    }
   ],
   "source": [
    "df.columns"
   ]
  },
  {
   "cell_type": "code",
   "execution_count": 70,
   "id": "5abb92bf",
   "metadata": {},
   "outputs": [],
   "source": [
    "df = df.rename(columns={\"Fatal (Y/N)\": \"Fatal\"})\n"
   ]
  },
  {
   "cell_type": "code",
   "execution_count": 71,
   "id": "ca64a924",
   "metadata": {},
   "outputs": [
    {
     "data": {
      "text/plain": [
       "Index(['Case Number', 'Date', 'Year', 'Type', 'Country', 'Area', 'Location',\n",
       "       'Activity', 'Name', 'Sex ', 'Age', 'Injury', 'Fatal'],\n",
       "      dtype='object')"
      ]
     },
     "execution_count": 71,
     "metadata": {},
     "output_type": "execute_result"
    }
   ],
   "source": [
    "df.columns"
   ]
  },
  {
   "cell_type": "code",
   "execution_count": 72,
   "id": "b9c8a6a1",
   "metadata": {},
   "outputs": [],
   "source": [
    "df['Fatal'] = df['Fatal'].apply(lambda x: 1 if x=='Y' else 0)"
   ]
  },
  {
   "cell_type": "code",
   "execution_count": 73,
   "id": "7df063f2",
   "metadata": {},
   "outputs": [
    {
     "data": {
      "text/html": [
       "<div>\n",
       "<style scoped>\n",
       "    .dataframe tbody tr th:only-of-type {\n",
       "        vertical-align: middle;\n",
       "    }\n",
       "\n",
       "    .dataframe tbody tr th {\n",
       "        vertical-align: top;\n",
       "    }\n",
       "\n",
       "    .dataframe thead th {\n",
       "        text-align: right;\n",
       "    }\n",
       "</style>\n",
       "<table border=\"1\" class=\"dataframe\">\n",
       "  <thead>\n",
       "    <tr style=\"text-align: right;\">\n",
       "      <th></th>\n",
       "      <th>Case Number</th>\n",
       "      <th>Date</th>\n",
       "      <th>Year</th>\n",
       "      <th>Type</th>\n",
       "      <th>Country</th>\n",
       "      <th>Area</th>\n",
       "      <th>Location</th>\n",
       "      <th>Activity</th>\n",
       "      <th>Name</th>\n",
       "      <th>Sex</th>\n",
       "      <th>Age</th>\n",
       "      <th>Injury</th>\n",
       "      <th>Fatal</th>\n",
       "    </tr>\n",
       "  </thead>\n",
       "  <tbody>\n",
       "    <tr>\n",
       "      <th>0</th>\n",
       "      <td>2017.06.02</td>\n",
       "      <td>2017-06-02 00:00:00</td>\n",
       "      <td>2017</td>\n",
       "      <td>Unprovoked</td>\n",
       "      <td>BAHAMAS</td>\n",
       "      <td>New Providence</td>\n",
       "      <td>Athol Island</td>\n",
       "      <td>Snorkeling</td>\n",
       "      <td>Tiffany Johnson</td>\n",
       "      <td>F</td>\n",
       "      <td>32</td>\n",
       "      <td>Right forearm severed</td>\n",
       "      <td>0</td>\n",
       "    </tr>\n",
       "    <tr>\n",
       "      <th>1</th>\n",
       "      <td>2017.05.30</td>\n",
       "      <td>2017-05-30 00:00:00</td>\n",
       "      <td>2017</td>\n",
       "      <td>Provoked</td>\n",
       "      <td>USA</td>\n",
       "      <td>South Carolina</td>\n",
       "      <td>Awendaw, Charleston County</td>\n",
       "      <td>Touching a shark</td>\n",
       "      <td>Mackenzie Higgins</td>\n",
       "      <td>F</td>\n",
       "      <td>20</td>\n",
       "      <td>Right hand bitten by hooked shark PROVOKED INC...</td>\n",
       "      <td>0</td>\n",
       "    </tr>\n",
       "    <tr>\n",
       "      <th>2</th>\n",
       "      <td>2017.05.03</td>\n",
       "      <td>2017-05-03 00:00:00</td>\n",
       "      <td>2017</td>\n",
       "      <td>Invalid</td>\n",
       "      <td>USA</td>\n",
       "      <td>California</td>\n",
       "      <td>Sunset Beach, Orange County</td>\n",
       "      <td>Surfing</td>\n",
       "      <td>Sophia Raab</td>\n",
       "      <td>F</td>\n",
       "      <td>18</td>\n",
       "      <td>Laceration to thigh, likely caused by surfboar...</td>\n",
       "      <td>0</td>\n",
       "    </tr>\n",
       "    <tr>\n",
       "      <th>3</th>\n",
       "      <td>2017.04.29.b</td>\n",
       "      <td>2017-04-29 00:00:00</td>\n",
       "      <td>2017</td>\n",
       "      <td>Unprovoked</td>\n",
       "      <td>USA</td>\n",
       "      <td>South Carolina</td>\n",
       "      <td>Folly Beach, Charleston County</td>\n",
       "      <td>Surfing</td>\n",
       "      <td>Holly Dyar</td>\n",
       "      <td>F</td>\n",
       "      <td>33</td>\n",
       "      <td>Left foot bitten</td>\n",
       "      <td>0</td>\n",
       "    </tr>\n",
       "    <tr>\n",
       "      <th>4</th>\n",
       "      <td>2017.04.22</td>\n",
       "      <td>2017-04-22 00:00:00</td>\n",
       "      <td>2017</td>\n",
       "      <td>Unprovoked</td>\n",
       "      <td>ST HELENA, British overseas territory</td>\n",
       "      <td>Ascension Island</td>\n",
       "      <td>English Bay</td>\n",
       "      <td>Snorkeling</td>\n",
       "      <td>Frankie Gonsalves</td>\n",
       "      <td>F</td>\n",
       "      <td>40</td>\n",
       "      <td>Calf &amp; foot bitten</td>\n",
       "      <td>0</td>\n",
       "    </tr>\n",
       "  </tbody>\n",
       "</table>\n",
       "</div>"
      ],
      "text/plain": [
       "    Case Number                 Date  Year        Type  \\\n",
       "0    2017.06.02  2017-06-02 00:00:00  2017  Unprovoked   \n",
       "1    2017.05.30  2017-05-30 00:00:00  2017    Provoked   \n",
       "2    2017.05.03  2017-05-03 00:00:00  2017     Invalid   \n",
       "3  2017.04.29.b  2017-04-29 00:00:00  2017  Unprovoked   \n",
       "4    2017.04.22  2017-04-22 00:00:00  2017  Unprovoked   \n",
       "\n",
       "                                 Country              Area  \\\n",
       "0                                BAHAMAS   New Providence    \n",
       "1                                    USA    South Carolina   \n",
       "2                                    USA        California   \n",
       "3                                    USA    South Carolina   \n",
       "4  ST HELENA, British overseas territory  Ascension Island   \n",
       "\n",
       "                         Location          Activity               Name Sex   \\\n",
       "0                    Athol Island        Snorkeling    Tiffany Johnson    F   \n",
       "1      Awendaw, Charleston County  Touching a shark  Mackenzie Higgins    F   \n",
       "2     Sunset Beach, Orange County           Surfing        Sophia Raab    F   \n",
       "3  Folly Beach, Charleston County           Surfing         Holly Dyar    F   \n",
       "4                     English Bay        Snorkeling  Frankie Gonsalves    F   \n",
       "\n",
       "   Age                                             Injury  Fatal  \n",
       "0   32                             Right forearm severed       0  \n",
       "1   20  Right hand bitten by hooked shark PROVOKED INC...      0  \n",
       "2   18  Laceration to thigh, likely caused by surfboar...      0  \n",
       "3   33                                   Left foot bitten      0  \n",
       "4   40                                 Calf & foot bitten      0  "
      ]
     },
     "execution_count": 73,
     "metadata": {},
     "output_type": "execute_result"
    }
   ],
   "source": [
    "df.head()"
   ]
  },
  {
   "cell_type": "code",
   "execution_count": 74,
   "id": "6641b08a",
   "metadata": {},
   "outputs": [],
   "source": [
    "df.drop(['Case Number', 'Name'], axis=1,inplace=True)"
   ]
  },
  {
   "cell_type": "code",
   "execution_count": 75,
   "id": "2c466043",
   "metadata": {},
   "outputs": [],
   "source": [
    "from dateutil import parser"
   ]
  },
  {
   "cell_type": "code",
   "execution_count": 76,
   "id": "48de4f85",
   "metadata": {},
   "outputs": [
    {
     "data": {
      "text/html": [
       "<div>\n",
       "<style scoped>\n",
       "    .dataframe tbody tr th:only-of-type {\n",
       "        vertical-align: middle;\n",
       "    }\n",
       "\n",
       "    .dataframe tbody tr th {\n",
       "        vertical-align: top;\n",
       "    }\n",
       "\n",
       "    .dataframe thead th {\n",
       "        text-align: right;\n",
       "    }\n",
       "</style>\n",
       "<table border=\"1\" class=\"dataframe\">\n",
       "  <thead>\n",
       "    <tr style=\"text-align: right;\">\n",
       "      <th></th>\n",
       "      <th>Date</th>\n",
       "      <th>Parsed_Date</th>\n",
       "      <th>Year</th>\n",
       "      <th>Time</th>\n",
       "    </tr>\n",
       "  </thead>\n",
       "  <tbody>\n",
       "    <tr>\n",
       "      <th>0</th>\n",
       "      <td>2017-06-02 00:00:00</td>\n",
       "      <td>2017-06-02</td>\n",
       "      <td>2017.0</td>\n",
       "      <td>00:00:00</td>\n",
       "    </tr>\n",
       "    <tr>\n",
       "      <th>1</th>\n",
       "      <td>2017-05-30 00:00:00</td>\n",
       "      <td>2017-05-30</td>\n",
       "      <td>2017.0</td>\n",
       "      <td>00:00:00</td>\n",
       "    </tr>\n",
       "    <tr>\n",
       "      <th>2</th>\n",
       "      <td>2017-05-03 00:00:00</td>\n",
       "      <td>2017-05-03</td>\n",
       "      <td>2017.0</td>\n",
       "      <td>00:00:00</td>\n",
       "    </tr>\n",
       "    <tr>\n",
       "      <th>3</th>\n",
       "      <td>2017-04-29 00:00:00</td>\n",
       "      <td>2017-04-29</td>\n",
       "      <td>2017.0</td>\n",
       "      <td>00:00:00</td>\n",
       "    </tr>\n",
       "    <tr>\n",
       "      <th>4</th>\n",
       "      <td>2017-04-22 00:00:00</td>\n",
       "      <td>2017-04-22</td>\n",
       "      <td>2017.0</td>\n",
       "      <td>00:00:00</td>\n",
       "    </tr>\n",
       "  </tbody>\n",
       "</table>\n",
       "</div>"
      ],
      "text/plain": [
       "                  Date Parsed_Date    Year      Time\n",
       "0  2017-06-02 00:00:00  2017-06-02  2017.0  00:00:00\n",
       "1  2017-05-30 00:00:00  2017-05-30  2017.0  00:00:00\n",
       "2  2017-05-03 00:00:00  2017-05-03  2017.0  00:00:00\n",
       "3  2017-04-29 00:00:00  2017-04-29  2017.0  00:00:00\n",
       "4  2017-04-22 00:00:00  2017-04-22  2017.0  00:00:00"
      ]
     },
     "execution_count": 76,
     "metadata": {},
     "output_type": "execute_result"
    }
   ],
   "source": [
    "from dateutil import parser\n",
    "import pandas as pd\n",
    "\n",
    "# Function to extract dates\n",
    "def extract_date(date_str):\n",
    "    # Try to parse the date string with a known format\n",
    "    try:\n",
    "        return pd.to_datetime(date_str, format='%Y-%m-%d %H:%M:%S', errors='coerce')\n",
    "    except:\n",
    "        pass\n",
    "\n",
    "    # If the above fails, try to clean and parse using dateutil\n",
    "    try:\n",
    "        # Remove common prefixes and then parse\n",
    "        date_str = date_str.split(' ', 1)[-1]  # Assumes the date is after the first space\n",
    "        return parser.parse(date_str)\n",
    "    except:\n",
    "        # If parsing still fails, return NaT\n",
    "        return pd.NaT\n",
    "\n",
    "# Apply function to your date column\n",
    "df['Parsed_Date'] = df['Date'].apply(lambda x: extract_date(x))\n",
    "\n",
    "# Now extract year and time\n",
    "df['Year'] = df['Parsed_Date'].dt.year\n",
    "df['Time'] = df['Parsed_Date'].dt.time\n",
    "\n",
    "# Check the output\n",
    "df[['Date', 'Parsed_Date', 'Year', 'Time']].head()\n"
   ]
  },
  {
   "cell_type": "code",
   "execution_count": 77,
   "id": "77787645",
   "metadata": {},
   "outputs": [],
   "source": [
    "df.drop(['Time', 'Parsed_Date'],axis=1,inplace=True)"
   ]
  },
  {
   "cell_type": "code",
   "execution_count": 78,
   "id": "ee4d4197",
   "metadata": {},
   "outputs": [],
   "source": [
    "df = df.rename(columns = {'Sex ':'Sex'})"
   ]
  },
  {
   "cell_type": "code",
   "execution_count": 79,
   "id": "64275e85",
   "metadata": {},
   "outputs": [
    {
     "data": {
      "text/plain": [
       "Index(['Date', 'Year', 'Type', 'Country', 'Area', 'Location', 'Activity',\n",
       "       'Sex', 'Age', 'Injury', 'Fatal'],\n",
       "      dtype='object')"
      ]
     },
     "execution_count": 79,
     "metadata": {},
     "output_type": "execute_result"
    }
   ],
   "source": [
    "df.columns"
   ]
  },
  {
   "cell_type": "code",
   "execution_count": 80,
   "id": "c8a317da",
   "metadata": {},
   "outputs": [],
   "source": [
    "df['Sex'] = df['Sex'].apply(lambda x: 1 if x=='M' else 0)"
   ]
  },
  {
   "cell_type": "code",
   "execution_count": 81,
   "id": "e7b36a2d",
   "metadata": {},
   "outputs": [],
   "source": [
    "from sklearn.model_selection import train_test_split"
   ]
  },
  {
   "cell_type": "code",
   "execution_count": 82,
   "id": "497d36c9",
   "metadata": {},
   "outputs": [],
   "source": [
    "# Create dummy variables for the 'Type' column\n",
    "type_dummies = pd.get_dummies(df['Type'], prefix='Type')\n",
    "\n",
    "# Concatenate the dummy variables with the original DataFrame\n",
    "df = pd.concat([df, type_dummies], axis=1)\n",
    "\n",
    "# Drop the original 'Type' column\n",
    "df = df.drop('Type', axis=1)\n"
   ]
  },
  {
   "cell_type": "code",
   "execution_count": 90,
   "id": "6b0a541e",
   "metadata": {},
   "outputs": [],
   "source": [
    "# Create dummy variables for the 'Type' column\n",
    "type_dummies = pd.get_dummies(df['Activity'], prefix='Type')\n",
    "\n",
    "# Concatenate the dummy variables with the original DataFrame\n",
    "df = pd.concat([df, type_dummies], axis=1)\n",
    "\n",
    "# Drop the original 'Type' column\n",
    "df = df.drop('Activity', axis=1)"
   ]
  },
  {
   "cell_type": "code",
   "execution_count": 96,
   "id": "21ef9174",
   "metadata": {},
   "outputs": [],
   "source": [
    "# Convert 'Age' to numeric, coercing errors to NaN, then drop NaN values\n",
    "df['Age'] = pd.to_numeric(df['Age'], errors='coerce')\n",
    "df = df.dropna(subset=['Age'])\n",
    "\n",
    "# Convert 'Age' back to integer (optional, if you want integer ages)\n",
    "df['Age'] = df['Age'].astype(int)\n"
   ]
  },
  {
   "cell_type": "code",
   "execution_count": 84,
   "id": "554ed96d",
   "metadata": {},
   "outputs": [],
   "source": [
    "# Convert 'Age' to string and keep rows where 'Age' has only digits\n",
    "df['Age'] = df['Age'].astype(str)  # Ensure 'Age' is of string type\n",
    "df = df[df['Age'].str.isdigit()]\n",
    "\n",
    "# Optionally, convert 'Age' back to integers\n",
    "df['Age'] = df['Age'].astype(int)"
   ]
  },
  {
   "cell_type": "code",
   "execution_count": 85,
   "id": "8c55cdd5",
   "metadata": {},
   "outputs": [
    {
     "data": {
      "text/plain": [
       "Index(['Date', 'Year', 'Country', 'Area', 'Location', 'Activity', 'Sex', 'Age',\n",
       "       'Injury', 'Fatal', 'Type_Boat', 'Type_Boating', 'Type_Invalid',\n",
       "       'Type_Provoked', 'Type_Sea Disaster', 'Type_Unprovoked'],\n",
       "      dtype='object')"
      ]
     },
     "execution_count": 85,
     "metadata": {},
     "output_type": "execute_result"
    }
   ],
   "source": [
    "df.columns"
   ]
  },
  {
   "cell_type": "code",
   "execution_count": 105,
   "id": "20c633fe",
   "metadata": {},
   "outputs": [],
   "source": [
    "# Selecting only object-type (string) columns for one-hot encoding\n",
    "object_cols = df.select_dtypes(include=['object']).columns\n",
    "\n",
    "# Apply one-hot encoding\n",
    "df_encoded = pd.get_dummies(df, columns=object_cols)"
   ]
  },
  {
   "cell_type": "code",
   "execution_count": 114,
   "id": "90c0ad40",
   "metadata": {},
   "outputs": [],
   "source": [
    "# Drop rows with any NaN values\n",
    "df_cleaned = df_encoded.dropna()\n",
    "\n",
    "# Remove rows with infinity or -infinity\n",
    "df_cleaned = df_cleaned[~df_cleaned.isin([np.inf, -np.inf]).any(1)]\n",
    "\n",
    "# Optionally, check for and remove very large values\n",
    "# Define a threshold value that is considered too large\n",
    "max_threshold = 1e30  # Example threshold; you can adjust this as needed\n",
    "df_cleaned = df_cleaned[(df_cleaned.abs() <= max_threshold).all(1)]\n",
    "\n",
    "# After cleaning, proceed with your train-test split and model fitting\n",
    "X = df_cleaned.drop('Fatal', axis=1)  # Assuming 'Fatal' is the target variable\n",
    "y = df_cleaned['Fatal']\n",
    "X_train, X_test, y_train, y_test = train_test_split(X, y, test_size=0.3, random_state=101)"
   ]
  },
  {
   "cell_type": "code",
   "execution_count": 115,
   "id": "78de1b79",
   "metadata": {},
   "outputs": [],
   "source": [
    "from sklearn.ensemble import RandomForestClassifier"
   ]
  },
  {
   "cell_type": "code",
   "execution_count": 123,
   "id": "55898ef5",
   "metadata": {},
   "outputs": [],
   "source": [
    "rfc = RandomForestClassifier(n_estimators=500)"
   ]
  },
  {
   "cell_type": "code",
   "execution_count": 124,
   "id": "ebcfa297",
   "metadata": {},
   "outputs": [
    {
     "data": {
      "text/plain": [
       "RandomForestClassifier(n_estimators=500)"
      ]
     },
     "execution_count": 124,
     "metadata": {},
     "output_type": "execute_result"
    }
   ],
   "source": [
    "rfc.fit(X_train,y_train)"
   ]
  },
  {
   "cell_type": "code",
   "execution_count": 125,
   "id": "53bb9564",
   "metadata": {},
   "outputs": [],
   "source": [
    "pred = rfc.predict(X_test)"
   ]
  },
  {
   "cell_type": "code",
   "execution_count": 126,
   "id": "b9d913ac",
   "metadata": {},
   "outputs": [],
   "source": [
    "from sklearn.metrics import classification_report,confusion_matrix"
   ]
  },
  {
   "cell_type": "code",
   "execution_count": 127,
   "id": "61834a7a",
   "metadata": {},
   "outputs": [
    {
     "name": "stdout",
     "output_type": "stream",
     "text": [
      "              precision    recall  f1-score   support\n",
      "\n",
      "           0       0.89      1.00      0.94       735\n",
      "           1       1.00      0.47      0.64       166\n",
      "\n",
      "    accuracy                           0.90       901\n",
      "   macro avg       0.95      0.73      0.79       901\n",
      "weighted avg       0.91      0.90      0.89       901\n",
      "\n"
     ]
    }
   ],
   "source": [
    "print(classification_report(y_test,pred))"
   ]
  },
  {
   "cell_type": "code",
   "execution_count": 128,
   "id": "17b6d29e",
   "metadata": {},
   "outputs": [
    {
     "name": "stdout",
     "output_type": "stream",
     "text": [
      "[[735   0]\n",
      " [ 88  78]]\n"
     ]
    }
   ],
   "source": [
    "print(confusion_matrix(y_test,pred))"
   ]
  },
  {
   "cell_type": "code",
   "execution_count": null,
   "id": "83761606",
   "metadata": {},
   "outputs": [],
   "source": []
  }
 ],
 "metadata": {
  "kernelspec": {
   "display_name": "Python 3 (ipykernel)",
   "language": "python",
   "name": "python3"
  },
  "language_info": {
   "codemirror_mode": {
    "name": "ipython",
    "version": 3
   },
   "file_extension": ".py",
   "mimetype": "text/x-python",
   "name": "python",
   "nbconvert_exporter": "python",
   "pygments_lexer": "ipython3",
   "version": "3.9.13"
  }
 },
 "nbformat": 4,
 "nbformat_minor": 5
}
